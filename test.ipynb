{
 "cells": [
  {
   "cell_type": "code",
   "execution_count": 1,
   "id": "0f11ff79",
   "metadata": {},
   "outputs": [],
   "source": [
    "# utils/scraping.py\n",
    "\n",
    "from playwright.sync_api import sync_playwright\n",
    "import os\n",
    "\n",
    "def scrape_and_screenshot(url, output_folder=\"screenshots\", html_save_path=\"data/chapter1.html\"):\n",
    "    # Ensure folders exist\n",
    "    os.makedirs(output_folder, exist_ok=True)\n",
    "    os.makedirs(os.path.dirname(html_save_path), exist_ok=True)\n",
    "\n",
    "    with sync_playwright() as p:\n",
    "        browser = p.chromium.launch()\n",
    "        page = browser.new_page()\n",
    "        page.goto(url)\n",
    "\n",
    "        # Save screenshot\n",
    "        screenshot_path = os.path.join(output_folder, \"chapter1_screenshot.png\")\n",
    "        page.screenshot(path=screenshot_path, full_page=True)\n",
    "\n",
    "        # Save HTML content\n",
    "        with open(html_save_path, \"w\", encoding=\"utf-8\") as f:\n",
    "            f.write(page.content())\n",
    "\n",
    "        browser.close()\n",
    "\n",
    "    print(f\"[✓] Screenshot saved to: {screenshot_path}\")\n",
    "    print(f\"[✓] HTML content saved to: {html_save_path}\")\n"
   ]
  },
  {
   "cell_type": "code",
   "execution_count": 9,
   "id": "64893e50",
   "metadata": {},
   "outputs": [
    {
     "name": "stdout",
     "output_type": "stream",
     "text": [
      "✅ Final version saved to output/test_final.txt\n"
     ]
    }
   ],
   "source": [
    "from gui.reviewer import review_and_edit\n",
    "\n",
    "sample_text = \"This is AI-spun content. Please review before finalizing.\"\n",
    "review_and_edit(sample_text, \"output/test_final.txt\")\n"
   ]
  },
  {
   "cell_type": "code",
   "execution_count": 10,
   "id": "95247994",
   "metadata": {},
   "outputs": [
    {
     "name": "stdout",
     "output_type": "stream",
     "text": [
      "🧭 ChromaDB cache path: C:\\Users\\jarif\\.cache\\chroma\n",
      "\n",
      "📁 Contents:\n",
      "- C:\\Users\\jarif\\.cache\\chroma\\onnx_models\n",
      "- C:\\Users\\jarif\\.cache\\chroma\\telemetry_user_id\n",
      "- C:\\Users\\jarif\\.cache\\chroma\\onnx_models\\all-MiniLM-L6-v2\n",
      "- C:\\Users\\jarif\\.cache\\chroma\\onnx_models\\all-MiniLM-L6-v2\\onnx\n",
      "- C:\\Users\\jarif\\.cache\\chroma\\onnx_models\\all-MiniLM-L6-v2\\onnx.tar.gz\n",
      "- C:\\Users\\jarif\\.cache\\chroma\\onnx_models\\all-MiniLM-L6-v2\\onnx\\config.json\n",
      "- C:\\Users\\jarif\\.cache\\chroma\\onnx_models\\all-MiniLM-L6-v2\\onnx\\model.onnx\n",
      "- C:\\Users\\jarif\\.cache\\chroma\\onnx_models\\all-MiniLM-L6-v2\\onnx\\special_tokens_map.json\n",
      "- C:\\Users\\jarif\\.cache\\chroma\\onnx_models\\all-MiniLM-L6-v2\\onnx\\tokenizer.json\n",
      "- C:\\Users\\jarif\\.cache\\chroma\\onnx_models\\all-MiniLM-L6-v2\\onnx\\tokenizer_config.json\n",
      "- C:\\Users\\jarif\\.cache\\chroma\\onnx_models\\all-MiniLM-L6-v2\\onnx\\vocab.txt\n"
     ]
    }
   ],
   "source": [
    "import os\n",
    "from pathlib import Path\n",
    "\n",
    "cache_path = Path.home() / \".cache\" / \"chroma\"\n",
    "print(\"🧭 ChromaDB cache path:\", cache_path)\n",
    "\n",
    "if cache_path.exists():\n",
    "    print(\"\\n📁 Contents:\")\n",
    "    for item in cache_path.glob(\"**/*\"):\n",
    "        print(\"-\", item)\n",
    "else:\n",
    "    print(\"⚠️ ChromaDB cache directory not found.\")\n"
   ]
  },
  {
   "cell_type": "code",
   "execution_count": null,
   "id": "99edccdf",
   "metadata": {},
   "outputs": [],
   "source": []
  }
 ],
 "metadata": {
  "kernelspec": {
   "display_name": "base",
   "language": "python",
   "name": "python3"
  },
  "language_info": {
   "codemirror_mode": {
    "name": "ipython",
    "version": 3
   },
   "file_extension": ".py",
   "mimetype": "text/x-python",
   "name": "python",
   "nbconvert_exporter": "python",
   "pygments_lexer": "ipython3",
   "version": "3.12.7"
  }
 },
 "nbformat": 4,
 "nbformat_minor": 5
}
